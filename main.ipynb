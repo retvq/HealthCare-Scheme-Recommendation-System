{
 "cells": [
  {
   "cell_type": "code",
   "execution_count": 15,
   "metadata": {},
   "outputs": [
    {
     "name": "stdout",
     "output_type": "stream",
     "text": [
      "  Monthly Data Item Wise Report Across Periods From Apr-2024 To Oct-2024 for selected Sub-District of Districts , Karnataka State   \\\n",
      "0          Data as on 14th November 2024 10:24:17 AM                                                                                 \n",
      "1                                           Category                                                                                 \n",
      "2                         M1 [Ante Natal Care (ANC)]                                                                                 \n",
      "3                                                NaN                                                                                 \n",
      "4                                                NaN                                                                                 \n",
      "\n",
      "       Unnamed: 1                                         Unnamed: 2  \\\n",
      "0             NaN                                                NaN   \n",
      "1  Data Item Code                                     Data Item Name   \n",
      "2            1.10  Total number of NEW Pregnant Women registered ...   \n",
      "3           1.1.a  Out of total number of NEW Pregnant Women regi...   \n",
      "4           1.1.b  Out of total number of NEW Pregnant Women regi...   \n",
      "\n",
      "  Unnamed: 3 Unnamed: 4 Unnamed: 5 Unnamed: 6 Unnamed: 7 Unnamed: 8 Unnamed: 9  \n",
      "0        NaN        NaN        NaN        NaN        NaN        NaN        NaN  \n",
      "1     Apr-24     May-24     Jun-24     Jul-24     Aug-24     Sep-24     Oct-24  \n",
      "2          0          0          0          0          0          0          0  \n",
      "3          0          0          0          0          0          0          0  \n",
      "4          0          0          0          0          0          0          0  \n",
      "Empty DataFrame\n",
      "Columns: [Category, Data Item Code, Data Item Name , Name of the Scheme[Outlay &Ecp.], Assistance (Cash/kind), No. of beneficiaries]\n",
      "Index: []\n"
     ]
    }
   ],
   "source": [
    "import pandas as pd\n",
    "\n",
    "# Load the disease data and the government schemes data\n",
    "scheme_data = pd.read_csv(\"dataset/schemes.csv\")\n",
    "disease_data = pd.read_csv(\"dataset/diseases.csv\")\n",
    "\n",
    "\n",
    "# Check the data structure\n",
    "print(disease_data.head())\n",
    "print(scheme_data.head())\n"
   ]
  },
  {
   "cell_type": "code",
   "execution_count": 20,
   "metadata": {},
   "outputs": [
    {
     "name": "stderr",
     "output_type": "stream",
     "text": [
      "C:\\Users\\DSUCSCL7-22\\AppData\\Local\\Temp\\ipykernel_8096\\2277503091.py:7: FutureWarning: errors='ignore' is deprecated and will raise in a future version. Use to_numeric without passing `errors` and catch exceptions explicitly instead\n",
      "  disease_data = disease_data.apply(pd.to_numeric, errors='ignore')\n"
     ]
    }
   ],
   "source": [
    "# Clean up missing or irrelevant data\n",
    "disease_data.fillna(0, inplace=True)  # Replace missing data with 0\n",
    "scheme_data.fillna(\"\", inplace=True)  # Replace missing government schemes with empty string\n",
    "\n",
    "\n",
    "# Make sure numerical columns are in the correct format\n",
    "disease_data = disease_data.apply(pd.to_numeric, errors='ignore')\n"
   ]
  },
  {
   "cell_type": "code",
   "execution_count": 22,
   "metadata": {},
   "outputs": [
    {
     "ename": "SyntaxError",
     "evalue": "unmatched ']' (3517569649.py, line 2)",
     "output_type": "error",
     "traceback": [
      "\u001b[1;36m  Cell \u001b[1;32mIn[22], line 2\u001b[1;36m\u001b[0m\n\u001b[1;33m    pneumonia_data = disease_data[disease_data['Category'] == 'M16 [Details of deaths reported with probable causes:']]\u001b[0m\n\u001b[1;37m                                                                                                                      ^\u001b[0m\n\u001b[1;31mSyntaxError\u001b[0m\u001b[1;31m:\u001b[0m unmatched ']'\n"
     ]
    }
   ],
   "source": [
    "# Extract disease trend data for a specific category (e.g., Pneumonia)\n",
    "pneumonia_data = disease_data[disease_data['Category'] == 'M16 [Details of deaths reported with probable causes:']]\n",
    "\n",
    "# Calculate trends for specific months (e.g., from Apr-24 to Oct-24)\n",
    "monthly_trends = pneumonia_data[['Apr-24', 'May-24', 'Jun-24', 'Jul-24', 'Aug-24', 'Sep-24', 'Oct-24']].sum(axis=1)\n",
    "\n",
    "# Display the monthly trend data\n",
    "print(monthly_trends)\n"
   ]
  }
 ],
 "metadata": {
  "kernelspec": {
   "display_name": "Python 3",
   "language": "python",
   "name": "python3"
  },
  "language_info": {
   "codemirror_mode": {
    "name": "ipython",
    "version": 3
   },
   "file_extension": ".py",
   "mimetype": "text/x-python",
   "name": "python",
   "nbconvert_exporter": "python",
   "pygments_lexer": "ipython3",
   "version": "3.11.9"
  }
 },
 "nbformat": 4,
 "nbformat_minor": 2
}
