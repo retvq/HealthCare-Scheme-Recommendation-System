{
 "cells": [
  {
   "cell_type": "code",
   "execution_count": 23,
   "metadata": {},
   "outputs": [
    {
     "name": "stdout",
     "output_type": "stream",
     "text": [
      "Diseases Data Preview:\n",
      "  Monthly Data Item Wise Report Across Periods From Apr-2024 To Oct-2024 for selected Sub-District of Districts , Karnataka State   \\\n",
      "0          Data as on 14th November 2024 10:24:17 AM                                                                                 \n",
      "1                                           Category                                                                                 \n",
      "2                         M1 [Ante Natal Care (ANC)]                                                                                 \n",
      "3                                                NaN                                                                                 \n",
      "4                                                NaN                                                                                 \n",
      "\n",
      "       Unnamed: 1                                         Unnamed: 2  \\\n",
      "0             NaN                                                NaN   \n",
      "1  Data Item Code                                     Data Item Name   \n",
      "2            1.10  Total number of NEW Pregnant Women registered ...   \n",
      "3           1.1.a  Out of total number of NEW Pregnant Women regi...   \n",
      "4           1.1.b  Out of total number of NEW Pregnant Women regi...   \n",
      "\n",
      "   Unnamed: 3  Unnamed: 4  Unnamed: 5  Unnamed: 6  Unnamed: 7  Unnamed: 8  \\\n",
      "0         NaN         NaN         NaN         NaN         NaN         NaN   \n",
      "1  2024-04-01  2024-05-01  2024-06-01  2024-07-01  2024-08-01  2024-09-01   \n",
      "2           0           0           0           0           0           0   \n",
      "3           0           0           0           0           0           0   \n",
      "4           0           0           0           0           0           0   \n",
      "\n",
      "   Unnamed: 9  \n",
      "0         NaN  \n",
      "1  2024-10-01  \n",
      "2           0  \n",
      "3           0  \n",
      "4           0  \n",
      "\n",
      "Schemes Data Preview:\n",
      "Empty DataFrame\n",
      "Columns: [Category, Data Item Code, Data Item Name , Name of the Scheme[Outlay &Ecp.], Assistance (Cash/kind), No. of beneficiaries]\n",
      "Index: []\n"
     ]
    }
   ],
   "source": [
    "import pandas as pd\n",
    "\n",
    "# Load the datasets\n",
    "diseases_df = pd.read_csv('dataset/diseases.csv')\n",
    "schemes_df = pd.read_csv('dataset/schemes.csv')\n",
    "\n",
    "# Preview the data\n",
    "print(\"Diseases Data Preview:\")\n",
    "print(diseases_df.head())\n",
    "\n",
    "print(\"\\nSchemes Data Preview:\")\n",
    "print(schemes_df.head())\n"
   ]
  },
  {
   "cell_type": "code",
   "execution_count": 24,
   "metadata": {},
   "outputs": [
    {
     "name": "stdout",
     "output_type": "stream",
     "text": [
      "Diseases Dataset Info:\n",
      "<class 'pandas.core.frame.DataFrame'>\n",
      "RangeIndex: 566 entries, 0 to 565\n",
      "Data columns (total 10 columns):\n",
      " #   Column                                                                                                                            Non-Null Count  Dtype \n",
      "---  ------                                                                                                                            --------------  ----- \n",
      " 0   Monthly Data Item Wise Report Across Periods From Apr-2024 To Oct-2024 for selected Sub-District of Districts , Karnataka State   24 non-null     object\n",
      " 1   Unnamed: 1                                                                                                                        564 non-null    object\n",
      " 2   Unnamed: 2                                                                                                                        564 non-null    object\n",
      " 3   Unnamed: 3                                                                                                                        493 non-null    object\n",
      " 4   Unnamed: 4                                                                                                                        493 non-null    object\n",
      " 5   Unnamed: 5                                                                                                                        493 non-null    object\n",
      " 6   Unnamed: 6                                                                                                                        493 non-null    object\n",
      " 7   Unnamed: 7                                                                                                                        492 non-null    object\n",
      " 8   Unnamed: 8                                                                                                                        492 non-null    object\n",
      " 9   Unnamed: 9                                                                                                                        491 non-null    object\n",
      "dtypes: object(10)\n",
      "memory usage: 44.3+ KB\n",
      "None\n",
      "Diseases Dataset Missing Values:\n",
      "Monthly Data Item Wise Report Across Periods From Apr-2024 To Oct-2024 for selected Sub-District of Districts , Karnataka State     542\n",
      "Unnamed: 1                                                                                                                            2\n",
      "Unnamed: 2                                                                                                                            2\n",
      "Unnamed: 3                                                                                                                           73\n",
      "Unnamed: 4                                                                                                                           73\n",
      "Unnamed: 5                                                                                                                           73\n",
      "Unnamed: 6                                                                                                                           73\n",
      "Unnamed: 7                                                                                                                           74\n",
      "Unnamed: 8                                                                                                                           74\n",
      "Unnamed: 9                                                                                                                           75\n",
      "dtype: int64\n",
      "Schemes Dataset Info:\n",
      "<class 'pandas.core.frame.DataFrame'>\n",
      "RangeIndex: 0 entries\n",
      "Data columns (total 6 columns):\n",
      " #   Column                            Non-Null Count  Dtype \n",
      "---  ------                            --------------  ----- \n",
      " 0   Category                          0 non-null      object\n",
      " 1   Data Item Code                    0 non-null      object\n",
      " 2   Data Item Name                    0 non-null      object\n",
      " 3   Name of the Scheme[Outlay &Ecp.]  0 non-null      object\n",
      " 4   Assistance (Cash/kind)            0 non-null      object\n",
      " 5   No. of beneficiaries              0 non-null      object\n",
      "dtypes: object(6)\n",
      "memory usage: 132.0+ bytes\n",
      "None\n",
      "Schemes Dataset Missing Values:\n",
      "Category                            0\n",
      "Data Item Code                      0\n",
      "Data Item Name                      0\n",
      "Name of the Scheme[Outlay &Ecp.]    0\n",
      "Assistance (Cash/kind)              0\n",
      "No. of beneficiaries                0\n",
      "dtype: int64\n"
     ]
    }
   ],
   "source": [
    "# Inspect diseases.csv\n",
    "print(\"Diseases Dataset Info:\")\n",
    "print(diseases_df.info())\n",
    "print(\"Diseases Dataset Missing Values:\")\n",
    "print(diseases_df.isnull().sum())\n",
    "\n",
    "# Inspect schemes.csv\n",
    "print(\"Schemes Dataset Info:\")\n",
    "print(schemes_df.info())\n",
    "print(\"Schemes Dataset Missing Values:\")\n",
    "print(schemes_df.isnull().sum())\n"
   ]
  },
  {
   "cell_type": "code",
   "execution_count": 26,
   "metadata": {},
   "outputs": [],
   "source": [
    "# Rename headers to remove spaces or standardize column names (if necessary)\n",
    "diseases_df.columns = diseases_df.columns.str.strip().str.replace(' ', '_')\n",
    "schemes_df.columns = schemes_df.columns.str.strip().str.replace(' ', '_')\n"
   ]
  },
  {
   "cell_type": "code",
   "execution_count": 31,
   "metadata": {},
   "outputs": [],
   "source": [
    "# Standardize column names\n",
    "schemes_df.columns = schemes_df.columns.str.strip().str.replace(' ', '_')\n",
    "\n",
    "# Drop rows with missing values in the 'Category' or 'Name_of_the_Scheme[Outlay_&Ecp.]' columns\n",
    "schemes_df.dropna(subset=['Category', 'Name_of_the_Scheme[Outlay_&Ecp.]'], inplace=True)\n"
   ]
  },
  {
   "cell_type": "code",
   "execution_count": null,
   "metadata": {},
   "outputs": [],
   "source": [
    "# Convert date columns to datetime\n",
    "date_columns = diseases_df.columns[3:]  # Assuming first three columns are non-date\n",
    "diseases_df[date_columns] = diseases_df[date_columns].apply(pd.to_numeric, errors='coerce')\n",
    "# Convert applicable columns to string or categorical\n",
    "schemes_df['Category'] = schemes_df['Category'].astype('category')\n"
   ]
  },
  {
   "cell_type": "markdown",
   "metadata": {},
   "source": [
    "import matplotlib.pyplot as plt\n",
    "\n",
    "\n",
    "disease_name = 'Influenza'\n",
    "disease_trend = diseases_df[diseases_df['Data_Item_Name'] == disease_name]\n",
    "plt.plot(date_columns, disease_trend.iloc[0, 3:])\n",
    "plt.title(f'Trend for {disease_name}')\n",
    "plt.xlabel('Month')\n",
    "plt.ylabel('Cases')\n",
    "plt.xticks(rotation=45)\n",
    "plt.show()\n"
   ]
  }
 ],
 "metadata": {
  "kernelspec": {
   "display_name": "Python 3",
   "language": "python",
   "name": "python3"
  },
  "language_info": {
   "codemirror_mode": {
    "name": "ipython",
    "version": 3
   },
   "file_extension": ".py",
   "mimetype": "text/x-python",
   "name": "python",
   "nbconvert_exporter": "python",
   "pygments_lexer": "ipython3",
   "version": "3.11.9"
  }
 },
 "nbformat": 4,
 "nbformat_minor": 2
}
