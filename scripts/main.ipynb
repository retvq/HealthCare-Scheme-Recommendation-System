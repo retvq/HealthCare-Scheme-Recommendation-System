{
 "cells": [
  {
   "cell_type": "code",
   "execution_count": 12,
   "metadata": {},
   "outputs": [
    {
     "name": "stdout",
     "output_type": "stream",
     "text": [
      "Diseases DataFrame:\n",
      "                     Category Data Code  \\\n",
      "0  M1 [Ante Natal Care (ANC)]       1.1   \n",
      "1  M1 [Ante Natal Care (ANC)]     1.1.a   \n",
      "2  M1 [Ante Natal Care (ANC)]     1.1.b   \n",
      "3  M1 [Ante Natal Care (ANC)]     1.1.c   \n",
      "4  M1 [Ante Natal Care (ANC)]     1.1.d   \n",
      "\n",
      "                                           Data Name  01-04-2023  01-05-2023  \\\n",
      "0  Total number of NEW Pregnant Women registered ...         0.0         0.0   \n",
      "1  Out of total number of NEW Pregnant Women regi...         0.0         0.0   \n",
      "2  Out of total number of NEW Pregnant Women regi...         0.0         0.0   \n",
      "3  Out of total number of NEW Pregnant Women regi...         0.0         0.0   \n",
      "4  Out of total number of NEW Pregnant Women regi...         0.0         0.0   \n",
      "\n",
      "   01-06-2023  01-07-2023  01-08-2023  01-09-2023  01-10-2023  ...  \\\n",
      "0         0.0         0.0         0.0         0.0         0.0  ...   \n",
      "1         0.0         0.0         0.0         0.0         0.0  ...   \n",
      "2         0.0         0.0         0.0         0.0         0.0  ...   \n",
      "3         0.0         0.0         0.0         0.0         0.0  ...   \n",
      "4         0.0         0.0         0.0         0.0         0.0  ...   \n",
      "\n",
      "   01-01-2024  01-02-2024  01-03-2024  01-04-2024  01-05-2024  01-06-2024  \\\n",
      "0         0.0         0.0         0.0         0.0         0.0         0.0   \n",
      "1         0.0         0.0         0.0         0.0         0.0         0.0   \n",
      "2         0.0         0.0         0.0         0.0         0.0         0.0   \n",
      "3         0.0         0.0         0.0         0.0         0.0         0.0   \n",
      "4         0.0         0.0         0.0         0.0         0.0         0.0   \n",
      "\n",
      "   01-07-2024  01-08-2024  01-09-2024  01-10-2024  \n",
      "0         0.0         0.0         0.0         0.0  \n",
      "1         0.0         0.0         0.0         0.0  \n",
      "2         0.0         0.0         0.0         0.0  \n",
      "3         0.0         0.0         0.0         0.0  \n",
      "4         0.0         0.0         0.0         0.0  \n",
      "\n",
      "[5 rows x 22 columns]\n",
      "\n",
      "Schemes DataFrame:\n",
      "  Category                                        Scheme Name  \\\n",
      "0       M1                       Janani Suraksha Yojana (JSY)   \n",
      "1       M1  Pradhan Mantri Surakshit Matritva Abhiyan (PMSMA)   \n",
      "2       M1            Janani Shishu Suraksha Karyakram (JSSK)   \n",
      "3       M1                                            LaQshya   \n",
      "4       M1                      Mukhya Mantri Rajshree Yojana   \n",
      "\n",
      "                                         Description  \\\n",
      "0  Promotes institutional deliveries among poor p...   \n",
      "1  Ensures at least one ANC checkup by specialist...   \n",
      "2  Provides free ANC services in government facil...   \n",
      "3  Focuses on improving quality in labor rooms an...   \n",
      "4  Provides ANC and delivery support for girl chi...   \n",
      "\n",
      "                                            Benefits  \\\n",
      "0            Reduces maternal and neonatal mortality   \n",
      "1  Improves maternal and fetal health through spe...   \n",
      "2  Eliminates financial barriers for mothers seek...   \n",
      "3  Ensures safer childbirth practices through qua...   \n",
      "4  Promotes ANC visits and ensures institutional ...   \n",
      "\n",
      "                                               Flaws     Level  \n",
      "0  Challenges in quality of care and gaps in remo...  National  \n",
      "1           Lack of follow-up care in remote regions  National  \n",
      "2  Implementation challenges due to logistical is...  National  \n",
      "3  Requires significant resources for infrastruct...  National  \n",
      "4         Limited to specific state and target group     State  \n",
      "\n",
      "Cleaned Diseases DataFrame:\n",
      "                     Category Data Code  \\\n",
      "0  M1 [Ante Natal Care (ANC)]       1.1   \n",
      "1  M1 [Ante Natal Care (ANC)]     1.1.a   \n",
      "2  M1 [Ante Natal Care (ANC)]     1.1.b   \n",
      "3  M1 [Ante Natal Care (ANC)]     1.1.c   \n",
      "4  M1 [Ante Natal Care (ANC)]     1.1.d   \n",
      "\n",
      "                                           Data Name 01-04-2023 01-05-2023  \\\n",
      "0  Total number of NEW Pregnant Women registered ...        0.0        0.0   \n",
      "1  Out of total number of NEW Pregnant Women regi...        0.0        0.0   \n",
      "2  Out of total number of NEW Pregnant Women regi...        0.0        0.0   \n",
      "3  Out of total number of NEW Pregnant Women regi...        0.0        0.0   \n",
      "4  Out of total number of NEW Pregnant Women regi...        0.0        0.0   \n",
      "\n",
      "  01-06-2023 01-07-2023 01-08-2023 01-09-2023 01-10-2023  ... 01-01-2024  \\\n",
      "0        0.0        0.0        0.0        0.0        0.0  ...        0.0   \n",
      "1        0.0        0.0        0.0        0.0        0.0  ...        0.0   \n",
      "2        0.0        0.0        0.0        0.0        0.0  ...        0.0   \n",
      "3        0.0        0.0        0.0        0.0        0.0  ...        0.0   \n",
      "4        0.0        0.0        0.0        0.0        0.0  ...        0.0   \n",
      "\n",
      "  01-02-2024 01-03-2024 01-04-2024 01-05-2024 01-06-2024 01-07-2024  \\\n",
      "0        0.0        0.0        0.0        0.0        0.0        0.0   \n",
      "1        0.0        0.0        0.0        0.0        0.0        0.0   \n",
      "2        0.0        0.0        0.0        0.0        0.0        0.0   \n",
      "3        0.0        0.0        0.0        0.0        0.0        0.0   \n",
      "4        0.0        0.0        0.0        0.0        0.0        0.0   \n",
      "\n",
      "  01-08-2024 01-09-2024 01-10-2024  \n",
      "0        0.0        0.0        0.0  \n",
      "1        0.0        0.0        0.0  \n",
      "2        0.0        0.0        0.0  \n",
      "3        0.0        0.0        0.0  \n",
      "4        0.0        0.0        0.0  \n",
      "\n",
      "[5 rows x 22 columns]\n",
      "\n",
      "Cleaned Schemes DataFrame:\n",
      "  Category                                        Scheme Name  \\\n",
      "0       M1                       Janani Suraksha Yojana (JSY)   \n",
      "1       M1  Pradhan Mantri Surakshit Matritva Abhiyan (PMSMA)   \n",
      "2       M1            Janani Shishu Suraksha Karyakram (JSSK)   \n",
      "3       M1                                            LaQshya   \n",
      "4       M1                      Mukhya Mantri Rajshree Yojana   \n",
      "\n",
      "                                         Description  \\\n",
      "0  Promotes institutional deliveries among poor p...   \n",
      "1  Ensures at least one ANC checkup by specialist...   \n",
      "2  Provides free ANC services in government facil...   \n",
      "3  Focuses on improving quality in labor rooms an...   \n",
      "4  Provides ANC and delivery support for girl chi...   \n",
      "\n",
      "                                            Benefits  \\\n",
      "0            Reduces maternal and neonatal mortality   \n",
      "1  Improves maternal and fetal health through spe...   \n",
      "2  Eliminates financial barriers for mothers seek...   \n",
      "3  Ensures safer childbirth practices through qua...   \n",
      "4  Promotes ANC visits and ensures institutional ...   \n",
      "\n",
      "                                               Flaws     Level  \n",
      "0  Challenges in quality of care and gaps in remo...  National  \n",
      "1           Lack of follow-up care in remote regions  National  \n",
      "2  Implementation challenges due to logistical is...  National  \n",
      "3  Requires significant resources for infrastruct...  National  \n",
      "4         Limited to specific state and target group     State  \n"
     ]
    },
    {
     "name": "stderr",
     "output_type": "stream",
     "text": [
      "C:\\Users\\ritvi\\AppData\\Local\\Temp\\ipykernel_15736\\42437380.py:18: FutureWarning: Setting an item of incompatible dtype is deprecated and will raise an error in a future version of pandas. Value 'Unknown' has dtype incompatible with float64, please explicitly cast to a compatible dtype first.\n",
      "  diseases_df.fillna('Unknown', inplace=True)\n"
     ]
    }
   ],
   "source": [
    "import pandas as pd\n",
    "\n",
    "# Load the datasets\n",
    "\n",
    "schemes_df = pd.read_csv('../dataset/schemes.csv')\n",
    "diseases_df = pd.read_csv('../dataset/  diseases.csv')\n",
    "# Display the first few rows of each dataframe to understand their structure\n",
    "print(\"Diseases DataFrame:\")\n",
    "print(diseases_df.head())\n",
    "print(\"\\nSchemes DataFrame:\")\n",
    "print(schemes_df.head())\n",
    "\n",
    "# Preprocess the diseases dataset\n",
    "# Drop duplicates\n",
    "diseases_df.drop_duplicates(inplace=True)\n",
    "\n",
    "# Handle missing values (example: fill with 'Unknown' or drop rows/columns)\n",
    "diseases_df.fillna('Unknown', inplace=True)\n",
    "\n",
    "# Convert columns to appropriate data types if necessary\n",
    "# Example: diseases_df['column_name'] = diseases_df['column_name'].astype('desired_type')\n",
    "\n",
    "# Preprocess the schemes dataset\n",
    "# Drop duplicates\n",
    "schemes_df.drop_duplicates(inplace=True)\n",
    "\n",
    "# Handle missing values (example: fill with 'Unknown' or drop rows/columns)\n",
    "schemes_df.fillna('Unknown', inplace=True)\n",
    "\n",
    "# Convert columns to appropriate data types if necessary\n",
    "# Example: schemes_df['column_name'] = schemes_df['column_name'].astype('desired_type')\n",
    "\n",
    "# Display the cleaned dataframes\n",
    "print(\"\\nCleaned Diseases DataFrame:\")\n",
    "print(diseases_df.head())\n",
    "\n",
    "print(\"\\nCleaned Schemes DataFrame:\")\n",
    "print(schemes_df.head())"
   ]
  },
  {
   "cell_type": "code",
   "execution_count": null,
   "metadata": {},
   "outputs": [],
   "source": [
    "# Path: scripts/data_processing.py\n",
    "import pandas as pd\n",
    "import numpy as np\n",
    "from sklearn.preprocessing import MinMaxScaler\n"
   ]
  },
  {
   "cell_type": "code",
   "execution_count": 15,
   "metadata": {},
   "outputs": [],
   "source": [
    "# Load both datasets\n",
    "data_df = pd.read_csv('../dataset/data.csv')\n",
    "schemes_df = pd.read_csv('../dataset/schemes.csv')\n"
   ]
  },
  {
   "cell_type": "markdown",
   "metadata": {},
   "source": [
    "**Cleaning Data.csv**"
   ]
  },
  {
   "cell_type": "code",
   "execution_count": 16,
   "metadata": {},
   "outputs": [
    {
     "name": "stdout",
     "output_type": "stream",
     "text": [
      "Category       0\n",
      "Data Code      0\n",
      "Data Name      0\n",
      "01-04-2023    71\n",
      "01-05-2023    71\n",
      "01-06-2023    71\n",
      "01-07-2023    71\n",
      "01-08-2023    71\n",
      "01-09-2023    72\n",
      "01-10-2023    71\n",
      "01-11-2023    71\n",
      "01-12-2023    71\n",
      "01-01-2024    72\n",
      "01-02-2024    72\n",
      "01-03-2024    71\n",
      "01-04-2024    71\n",
      "01-05-2024    71\n",
      "01-06-2024    71\n",
      "01-07-2024    71\n",
      "01-08-2024    71\n",
      "01-09-2024    71\n",
      "01-10-2024    71\n",
      "dtype: int64\n"
     ]
    }
   ],
   "source": [
    "# Check for missing values\n",
    "print(data_df.isnull().sum())\n",
    "\n",
    "# Fill or remove missing values\n",
    "data_df.fillna(0, inplace=True)\n"
   ]
  },
  {
   "cell_type": "code",
   "execution_count": 17,
   "metadata": {},
   "outputs": [],
   "source": [
    "# Melt the Data.csv file to long format for better analysis\n",
    "data_df_long = pd.melt(data_df,\n",
    "                       id_vars=['Category', 'Data Code', 'Data Name'],\n",
    "                       var_name='Date',\n",
    "                       value_name='Patient Count')\n",
    "\n",
    "# Convert 'Date' column to datetime\n",
    "data_df_long['Date'] = pd.to_datetime(data_df_long['Date'], format='%d-%m-%Y')\n",
    "\n",
    "# Sort by category and date for easier trend analysis\n",
    "data_df_long.sort_values(by=['Category', 'Date'], inplace=True)\n"
   ]
  },
  {
   "cell_type": "code",
   "execution_count": 18,
   "metadata": {},
   "outputs": [],
   "source": [
    "scaler = MinMaxScaler()\n",
    "data_df_long['Normalized Patient Count'] = scaler.fit_transform(data_df_long[['Patient Count']])\n"
   ]
  },
  {
   "cell_type": "markdown",
   "metadata": {},
   "source": [
    "**Cleaning Schemes.csv data**"
   ]
  },
  {
   "cell_type": "code",
   "execution_count": 19,
   "metadata": {},
   "outputs": [
    {
     "name": "stdout",
     "output_type": "stream",
     "text": [
      "Category       0\n",
      "Scheme Name    0\n",
      "Description    0\n",
      "Benefits       0\n",
      "Flaws          0\n",
      "Level          0\n",
      "dtype: int64\n"
     ]
    }
   ],
   "source": [
    "# Check for missing values\n",
    "print(schemes_df.isnull().sum())\n",
    "\n",
    "# Fill or remove missing values\n",
    "schemes_df.fillna('Unknown', inplace=True)\n"
   ]
  },
  {
   "cell_type": "code",
   "execution_count": 20,
   "metadata": {},
   "outputs": [],
   "source": [
    "# Standardize category names in both datasets for consistency\n",
    "data_df_long['Category'] = data_df_long['Category'].str.strip().str.lower()\n",
    "schemes_df['Category'] = schemes_df['Category'].str.strip().str.lower()\n"
   ]
  },
  {
   "cell_type": "code",
   "execution_count": 21,
   "metadata": {},
   "outputs": [],
   "source": [
    "import re\n",
    "\n",
    "def clean_text(text):\n",
    "    # Remove special characters and multiple spaces\n",
    "    text = re.sub(r'\\s+', ' ', re.sub(r'[^\\w\\s]', '', text)).strip()\n",
    "    return text.lower()\n",
    "\n",
    "# Apply text cleaning\n",
    "schemes_df['Description'] = schemes_df['Description'].apply(clean_text)\n",
    "schemes_df['Benefits'] = schemes_df['Benefits'].apply(clean_text)\n",
    "schemes_df['Flaws'] = schemes_df['Flaws'].apply(clean_text)\n"
   ]
  },
  {
   "cell_type": "code",
   "execution_count": 22,
   "metadata": {},
   "outputs": [
    {
     "name": "stdout",
     "output_type": "stream",
     "text": [
      "Category                    0\n",
      "Data Code                   0\n",
      "Data Name                   0\n",
      "Date                        0\n",
      "Patient Count               0\n",
      "Normalized Patient Count    0\n",
      "Scheme Name                 0\n",
      "Description                 0\n",
      "Benefits                    0\n",
      "Flaws                       0\n",
      "Level                       0\n",
      "dtype: int64\n"
     ]
    }
   ],
   "source": [
    "# Merge based on category\n",
    "merged_df = pd.merge(data_df_long, schemes_df, on='Category', how='inner')\n",
    "\n",
    "# Ensure merged data is clean\n",
    "print(merged_df.isnull().sum())\n"
   ]
  },
  {
   "cell_type": "code",
   "execution_count": 23,
   "metadata": {},
   "outputs": [],
   "source": [
    "# Aggregate by month and category\n",
    "trend_data = merged_df.groupby(['Category', 'Date']).agg({\n",
    "    'Patient Count': 'sum',\n",
    "    'Normalized Patient Count': 'mean'\n",
    "}).reset_index()\n",
    "\n",
    "# Example: Calculate percentage change for trends\n",
    "trend_data['Trend Change'] = trend_data.groupby('Category')['Patient Count'].pct_change()\n"
   ]
  },
  {
   "cell_type": "code",
   "execution_count": 24,
   "metadata": {},
   "outputs": [],
   "source": [
    "# Save data for further analysis or model training\n",
    "data_df_long.to_csv('../dataset/processed_data.csv', index=False)\n",
    "schemes_df.to_csv('../dataset/processed_schemes.csv', index=False)\n",
    "merged_df.to_csv('../dataset/merged_data.csv', index=False)\n",
    "trend_data.to_csv('../dataset/trend_analysis.csv', index=False)\n"
   ]
  }
 ],
 "metadata": {
  "kernelspec": {
   "display_name": "Python 3",
   "language": "python",
   "name": "python3"
  },
  "language_info": {
   "codemirror_mode": {
    "name": "ipython",
    "version": 3
   },
   "file_extension": ".py",
   "mimetype": "text/x-python",
   "name": "python",
   "nbconvert_exporter": "python",
   "pygments_lexer": "ipython3",
   "version": "3.10.5"
  }
 },
 "nbformat": 4,
 "nbformat_minor": 2
}
